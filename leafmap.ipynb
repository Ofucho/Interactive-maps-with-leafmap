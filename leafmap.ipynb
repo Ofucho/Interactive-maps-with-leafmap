{
 "cells": [
  {
   "cell_type": "code",
   "execution_count": 1,
   "id": "167e7391",
   "metadata": {},
   "outputs": [],
   "source": [
    "import leafmap"
   ]
  },
  {
   "cell_type": "code",
   "execution_count": 4,
   "id": "d9798298",
   "metadata": {},
   "outputs": [],
   "source": [
    "m = leafmap.Map(center=(-1.1993409323259936, 36.838099528619956), zoom_start=6)\n",
    "in_shp = 'kenya_roads/Roads.shp'\n",
    "m.add_shp(in_shp, layer_name='Roads')"
   ]
  },
  {
   "cell_type": "code",
   "execution_count": 6,
   "id": "494e14b2",
   "metadata": {},
   "outputs": [
    {
     "data": {
      "application/vnd.jupyter.widget-view+json": {
       "model_id": "8b40dd29618f4bc69fac85d39f0c7e5b",
       "version_major": 2,
       "version_minor": 0
      },
      "text/plain": [
       "Map(center=[-1.1993409323259936, 36.838099528619956], controls=(ZoomControl(options=['position', 'zoom_in_text…"
      ]
     },
     "metadata": {},
     "output_type": "display_data"
    }
   ],
   "source": [
    "m"
   ]
  },
  {
   "cell_type": "code",
   "execution_count": null,
   "id": "40ce83af",
   "metadata": {},
   "outputs": [],
   "source": []
  }
 ],
 "metadata": {
  "kernelspec": {
   "display_name": "Python 3 (ipykernel)",
   "language": "python",
   "name": "python3"
  },
  "language_info": {
   "codemirror_mode": {
    "name": "ipython",
    "version": 3
   },
   "file_extension": ".py",
   "mimetype": "text/x-python",
   "name": "python",
   "nbconvert_exporter": "python",
   "pygments_lexer": "ipython3",
   "version": "3.10.1"
  }
 },
 "nbformat": 4,
 "nbformat_minor": 5
}
