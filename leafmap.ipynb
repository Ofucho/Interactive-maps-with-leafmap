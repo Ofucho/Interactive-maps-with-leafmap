{
 "cells": [
  {
   "cell_type": "code",
   "execution_count": 1,
   "id": "167e7391",
   "metadata": {},
   "outputs": [],
   "source": [
    "# Import the leafmap module, which provides functions for creating and manipulating maps using the Leaflet library\n",
    "import leafmap"
   ]
  },
  {
   "cell_type": "code",
   "execution_count": 4,
   "id": "d9798298",
   "metadata": {},
   "outputs": [],
   "source": [
    "# Initialize a Map object centered at the given latitude and longitude\n",
    "m = leafmap.Map(center=(-1.1993409323259936, 36.838099528619956), zoom_start=6)\n",
    "\n",
    "# Load the shapefile located at 'kenya_roads/Roads.shp' and add it to the map as a layer called 'Roads'\n",
    "in_shp = 'kenya_roads/Roads.shp'\n",
    "\n",
    "# Add the shapefile located at 'in_shp' to the map as a layer called 'Roads'\n",
    "m.add_shp(in_shp, layer_name='Roads')"
   ]
  },
  {
   "cell_type": "code",
   "execution_count": 6,
   "id": "494e14b2",
   "metadata": {},
   "outputs": [
    {
     "data": {
      "application/vnd.jupyter.widget-view+json": {
       "model_id": "8b40dd29618f4bc69fac85d39f0c7e5b",
       "version_major": 2,
       "version_minor": 0
      },
      "text/plain": [
       "Map(center=[-1.1993409323259936, 36.838099528619956], controls=(ZoomControl(options=['position', 'zoom_in_text…"
      ]
     },
     "metadata": {},
     "output_type": "display_data"
    }
   ],
   "source": [
    "# The 'm' variable refers to a Map object, which represents a map created using the leafmap module\n",
    "# The Map object has various methods for manipulating and visualizing the map (e.g. adding layers, setting the center and zoom level)\n",
    "m"
   ]
  },
  {
   "cell_type": "code",
   "execution_count": null,
   "id": "40ce83af",
   "metadata": {},
   "outputs": [],
   "source": []
  }
 ],
 "metadata": {
  "kernelspec": {
   "display_name": "Python 3 (ipykernel)",
   "language": "python",
   "name": "python3"
  },
  "language_info": {
   "codemirror_mode": {
    "name": "ipython",
    "version": 3
   },
   "file_extension": ".py",
   "mimetype": "text/x-python",
   "name": "python",
   "nbconvert_exporter": "python",
   "pygments_lexer": "ipython3",
   "version": "3.10.1"
  }
 },
 "nbformat": 4,
 "nbformat_minor": 5
}
